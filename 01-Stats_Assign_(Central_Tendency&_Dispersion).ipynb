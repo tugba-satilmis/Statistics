{
 "cells": [
  {
   "cell_type": "markdown",
   "metadata": {
    "id": "K7S4cEyZLTp7"
   },
   "source": [
    "## Descriptive Statistics"
   ]
  },
  {
   "cell_type": "code",
   "execution_count": 2,
   "metadata": {
    "id": "CCZJzVnVT8bw"
   },
   "outputs": [
    {
     "name": "stdout",
     "output_type": "stream",
     "text": [
      "Collecting pandas\n",
      "  Downloading pandas-1.4.2-cp310-cp310-win_amd64.whl (10.6 MB)\n",
      "     ---------------------------------------- 10.6/10.6 MB 6.8 MB/s eta 0:00:00\n",
      "Requirement already satisfied: python-dateutil>=2.8.1 in c:\\users\\acer\\appdata\\local\\programs\\python\\python310\\lib\\site-packages (from pandas) (2.8.2)\n",
      "Collecting pytz>=2020.1\n",
      "  Downloading pytz-2022.1-py2.py3-none-any.whl (503 kB)\n",
      "     -------------------------------------- 503.5/503.5 KB 6.3 MB/s eta 0:00:00\n",
      "Requirement already satisfied: numpy>=1.21.0 in c:\\users\\acer\\appdata\\local\\programs\\python\\python310\\lib\\site-packages (from pandas) (1.22.3)\n",
      "Requirement already satisfied: six>=1.5 in c:\\users\\acer\\appdata\\local\\programs\\python\\python310\\lib\\site-packages (from python-dateutil>=2.8.1->pandas) (1.16.0)\n",
      "Installing collected packages: pytz, pandas\n",
      "Successfully installed pandas-1.4.2 pytz-2022.1\n",
      "Note: you may need to restart the kernel to use updated packages.\n"
     ]
    }
   ],
   "source": [
    "# yüklü değilse\n",
    "pip install pandas"
   ]
  },
  {
   "cell_type": "markdown",
   "metadata": {
    "id": "vZRYVyc8H7hi"
   },
   "source": [
    " Import **NumPy**, **SciPy**, and **Pandas**"
   ]
  },
  {
   "cell_type": "code",
   "execution_count": 2,
   "metadata": {
    "id": "7ShN0klrHIk3"
   },
   "outputs": [],
   "source": [
    "import numpy as np\n",
    "import pandas as pd\n",
    "import matplotlib.pyplot as plt\n",
    "\n",
    "from scipy import stats"
   ]
  },
  {
   "cell_type": "markdown",
   "metadata": {
    "id": "_SaQURIqIA6d"
   },
   "source": [
    " Randomly generate 1,000 samples from the normal distribution using `np.random.normal()`(mean = 100, standard deviation = 15)"
   ]
  },
  {
   "cell_type": "code",
   "execution_count": 26,
   "metadata": {
    "scrolled": false
   },
   "outputs": [
    {
     "name": "stdout",
     "output_type": "stream",
     "text": [
      "Help on built-in function normal:\n",
      "\n",
      "normal(...) method of numpy.random.mtrand.RandomState instance\n",
      "    normal(loc=0.0, scale=1.0, size=None)\n",
      "    \n",
      "    Draw random samples from a normal (Gaussian) distribution.\n",
      "    \n",
      "    The probability density function of the normal distribution, first\n",
      "    derived by De Moivre and 200 years later by both Gauss and Laplace\n",
      "    independently [2]_, is often called the bell curve because of\n",
      "    its characteristic shape (see the example below).\n",
      "    \n",
      "    The normal distributions occurs often in nature.  For example, it\n",
      "    describes the commonly occurring distribution of samples influenced\n",
      "    by a large number of tiny, random disturbances, each with its own\n",
      "    unique distribution [2]_.\n",
      "    \n",
      "    .. note::\n",
      "        New code should use the ``normal`` method of a ``default_rng()``\n",
      "        instance instead; please see the :ref:`random-quick-start`.\n",
      "    \n",
      "    Parameters\n",
      "    ----------\n",
      "    loc : float or array_like of floats\n",
      "        Mean (\"centre\") of the distribution.\n",
      "    scale : float or array_like of floats\n",
      "        Standard deviation (spread or \"width\") of the distribution. Must be\n",
      "        non-negative.\n",
      "    size : int or tuple of ints, optional\n",
      "        Output shape.  If the given shape is, e.g., ``(m, n, k)``, then\n",
      "        ``m * n * k`` samples are drawn.  If size is ``None`` (default),\n",
      "        a single value is returned if ``loc`` and ``scale`` are both scalars.\n",
      "        Otherwise, ``np.broadcast(loc, scale).size`` samples are drawn.\n",
      "    \n",
      "    Returns\n",
      "    -------\n",
      "    out : ndarray or scalar\n",
      "        Drawn samples from the parameterized normal distribution.\n",
      "    \n",
      "    See Also\n",
      "    --------\n",
      "    scipy.stats.norm : probability density function, distribution or\n",
      "        cumulative density function, etc.\n",
      "    Generator.normal: which should be used for new code.\n",
      "    \n",
      "    Notes\n",
      "    -----\n",
      "    The probability density for the Gaussian distribution is\n",
      "    \n",
      "    .. math:: p(x) = \\frac{1}{\\sqrt{ 2 \\pi \\sigma^2 }}\n",
      "                     e^{ - \\frac{ (x - \\mu)^2 } {2 \\sigma^2} },\n",
      "    \n",
      "    where :math:`\\mu` is the mean and :math:`\\sigma` the standard\n",
      "    deviation. The square of the standard deviation, :math:`\\sigma^2`,\n",
      "    is called the variance.\n",
      "    \n",
      "    The function has its peak at the mean, and its \"spread\" increases with\n",
      "    the standard deviation (the function reaches 0.607 times its maximum at\n",
      "    :math:`x + \\sigma` and :math:`x - \\sigma` [2]_).  This implies that\n",
      "    normal is more likely to return samples lying close to the mean, rather\n",
      "    than those far away.\n",
      "    \n",
      "    References\n",
      "    ----------\n",
      "    .. [1] Wikipedia, \"Normal distribution\",\n",
      "           https://en.wikipedia.org/wiki/Normal_distribution\n",
      "    .. [2] P. R. Peebles Jr., \"Central Limit Theorem\" in \"Probability,\n",
      "           Random Variables and Random Signal Principles\", 4th ed., 2001,\n",
      "           pp. 51, 51, 125.\n",
      "    \n",
      "    Examples\n",
      "    --------\n",
      "    Draw samples from the distribution:\n",
      "    \n",
      "    >>> mu, sigma = 0, 0.1 # mean and standard deviation\n",
      "    >>> s = np.random.normal(mu, sigma, 1000)\n",
      "    \n",
      "    Verify the mean and the variance:\n",
      "    \n",
      "    >>> abs(mu - np.mean(s))\n",
      "    0.0  # may vary\n",
      "    \n",
      "    >>> abs(sigma - np.std(s, ddof=1))\n",
      "    0.1  # may vary\n",
      "    \n",
      "    Display the histogram of the samples, along with\n",
      "    the probability density function:\n",
      "    \n",
      "    >>> import matplotlib.pyplot as plt\n",
      "    >>> count, bins, ignored = plt.hist(s, 30, density=True)\n",
      "    >>> plt.plot(bins, 1/(sigma * np.sqrt(2 * np.pi)) *\n",
      "    ...                np.exp( - (bins - mu)**2 / (2 * sigma**2) ),\n",
      "    ...          linewidth=2, color='r')\n",
      "    >>> plt.show()\n",
      "    \n",
      "    Two-by-four array of samples from N(3, 6.25):\n",
      "    \n",
      "    >>> np.random.normal(3, 2.5, size=(2, 4))\n",
      "    array([[-4.49401501,  4.00950034, -1.81814867,  7.29718677],   # random\n",
      "           [ 0.39924804,  4.68456316,  4.99394529,  4.84057254]])  # random\n",
      "\n"
     ]
    }
   ],
   "source": [
    "help(np.random.normal)"
   ]
  },
  {
   "cell_type": "code",
   "execution_count": 27,
   "metadata": {
    "id": "Jyw_FMX0IRkm"
   },
   "outputs": [],
   "source": [
    "np.random.seed(3)\n",
    "samples = np.random.normal(100, 15, 1000)  # (mean = 100, standard deviation = 15)"
   ]
  },
  {
   "cell_type": "code",
   "execution_count": 28,
   "metadata": {},
   "outputs": [
    {
     "name": "stdout",
     "output_type": "stream",
     "text": [
      "[126.8294271  106.54764776 101.44746202  72.04760945  95.83917696\n",
      "  94.67861531  98.75887778  90.59498985  99.34272747  92.84172954\n",
      "  80.2920287  113.26933571 113.21977063 125.64359595 100.75050463\n",
      "  93.92983878  91.81960079  76.80284027 114.73551151  83.48398555\n",
      "  82.22430209  96.91525151 122.29222533 103.55074401  84.6432229\n",
      "  89.305102   109.37867449  97.59229955  88.46745475  96.54953917\n",
      " 111.175844   129.64166175  81.33815007  90.60374633  87.94350858\n",
      "  63.7137524   86.14311967  84.64186359 116.85966938  98.02128651\n",
      "  75.65071831 109.70013178  94.65593861  73.85288445  91.05025537\n",
      "  91.1710843   86.89176553 100.44570723  66.27613349  95.98357203\n",
      " 115.19775163 112.79196761 116.6228125  116.79085983 122.31314698\n",
      "  83.22548973 112.68750111  72.08665707  90.95672344  71.28291935\n",
      " 115.72221268 120.00606729  97.03877981 126.61967547  89.87908735\n",
      " 102.25925298 102.29418554  84.03707089 106.56919917 129.08467691\n",
      "  84.62603688 113.49007669  97.68239722 126.54440955 107.25682521\n",
      " 110.143246   109.64744921 103.7363006   79.06354746 120.87494362\n",
      "  79.43996481 103.57844789 109.21115632  87.43131591 102.17594821\n",
      " 117.51823429  99.63843295  86.67013873  56.26393372  85.42239246\n",
      "  91.13381892  92.25373948  85.6000573  105.65942851  91.37937369\n",
      "  98.35818499 110.186074    87.16844247  95.49690888 132.37224013\n",
      " 113.11428584  80.59695052  98.80388593 108.46728277 118.50206567\n",
      " 102.23479592  92.04126783  89.04210034 109.67592977 104.69590561\n",
      "  92.25028113  97.163925    93.75702977 110.86986487  89.65058984\n",
      " 107.29621713 112.77278426 107.29373989  87.48640224 120.17488685\n",
      "  89.82680981 106.39652612  88.6999781   73.83834624 103.38625399\n",
      " 104.30552747  98.83838559 104.14102746  90.27383668  88.93802744\n",
      "  97.47864852 128.63915214 112.22221812  92.20012369 108.38069807\n",
      "  92.82453009  93.14108819 112.88926012  92.12103032  74.86548049\n",
      "  86.40257949 101.32622809 101.92011732 118.62424777  89.25961304\n",
      " 110.97198604 106.38950125  97.76479342 112.53765853 107.38178354\n",
      "  87.0653727  116.07525895  81.6864712  100.8942315  100.03666243\n",
      " 106.36953581  89.11849779  99.47584922  97.89069959 114.95632551\n",
      "  88.0612796  101.09118294  96.08139273  80.52930043 140.14168701\n",
      "  98.93171459  77.70012894 121.12940438  83.94121751 105.56304958\n",
      " 112.94248142  90.27351966  93.53664917  91.89594604  98.05958485\n",
      "  75.66308244  81.46545064  97.88820337 115.58428176 109.47616266\n",
      " 125.94126144 110.41078408  92.33306511  98.15734892  69.54409669\n",
      "  85.58837335  84.69461082 104.05890137 109.71744696  91.59439872\n",
      "  91.1724757   76.80166266  98.08356913 103.72252041 106.68671438\n",
      "  88.25936435 129.8273452  117.92587504  98.57143602  92.09218331\n",
      "  95.1762296  102.26695557  99.72058427 107.25293181 111.53447737\n",
      " 120.49364265 117.2089719   98.34656267 105.82375621  94.19309228\n",
      "  91.19169532 128.66240277  93.10230775 129.86106718  94.76446911\n",
      " 103.79237637 116.34114322 100.35883033 105.89687922  96.379228\n",
      "  92.86712713  97.51334465  90.25423869 124.47074431  97.48452096\n",
      " 125.84003797  59.72336983 100.27631192 108.42927509  95.59268143\n",
      " 116.41979619 109.59538533  95.8809982  106.52513887 142.17817563\n",
      " 103.7799269  104.49253497  93.40013033 102.00245562  80.66108209\n",
      "  97.02564615 136.86381439 116.00823326 109.62130983 116.55882497\n",
      " 128.22632487 108.90382172 131.06317789 116.04697538 102.49779265\n",
      " 125.79214833  64.61177893  91.42976557 103.9868057   86.3186363\n",
      "  97.65912396  90.41813655  90.18377183 140.67889502 109.41210834\n",
      "  99.19078226 119.72750836  96.43993787 113.28009513 105.26223761\n",
      " 124.39860407  78.70193041 111.48581608 101.83374618  82.63924937\n",
      " 115.98130272  86.91436508 124.28857727 107.69639513 110.43225975\n",
      " 101.20686082 113.5679273   72.01523241 101.12091691  90.5762379\n",
      " 104.23990461  99.2926464  109.24866825  87.4355283  127.58727831\n",
      " 134.73787896  96.87574873  99.77540221 104.31336476 118.96128626\n",
      " 128.45351434  81.91295814  90.77337153  84.06765815  83.30828274\n",
      "  75.41055629 105.44205229  82.61445302 122.54892929 113.62478075\n",
      "  84.55435712  84.54687073  90.81423373 120.99948244  87.2558896\n",
      "  77.59675498  99.25864172 105.60084916  90.14113772 124.2914621\n",
      " 103.60685171 106.7955668   87.16700919  99.40405242  97.65221779\n",
      "  65.91633828 104.31485843  73.07789447  99.56821532  77.8908576\n",
      " 130.29475963 104.89393409 112.92036421 113.78512197  80.13266954\n",
      "  65.77311528  95.05632771 113.45724621 101.36551767 111.78148371\n",
      " 114.0494886   77.61404348 104.31525586 129.49711942  91.44201557\n",
      "  69.56391811  96.5214317   93.02996918 106.27571534  86.61390498\n",
      " 101.3607516   66.73873583 112.80945057 123.80299815 119.46816421\n",
      "  77.27176512 104.78794264  55.24044693 104.24778883  99.03459742\n",
      "  85.06308633 105.15691778 102.07021983 114.09254281 101.90962786\n",
      " 103.52540519  70.82391607  82.60415574  92.8615092  104.45266796\n",
      "  99.90551832 122.51335535  86.94761215  96.4055189  103.82621042\n",
      "  96.52753886 107.43370593  91.44155764 121.30513458  95.20614789\n",
      " 116.73917777  99.54544949 122.37283519  79.02825984 107.75196331\n",
      "  93.51135436 103.47101142 117.89207748  82.91354802  80.16955398\n",
      "  85.02449682 103.81581361  71.69744612 101.44890602  80.70656009\n",
      "  82.8441726   94.46233382 105.70896377  90.60378245  92.6193416\n",
      "  99.37233658  95.90896696  59.85217952  93.54849089 101.27446087\n",
      " 116.46669231 130.69499165 110.00481774 101.18638289  85.52854799\n",
      " 101.33580056 111.68345353 118.96967367  86.79232999 103.54608393\n",
      " 112.23406699 127.91217504 103.83385729  91.87744426  89.65600514\n",
      "  94.63838907  90.22119694 112.39803772 116.03958584 110.87285233\n",
      " 117.88279365  93.19347193 105.70502588  94.23005237 100.65488032\n",
      " 118.37478614  99.55397032  72.02791304  96.20776019  89.30725306\n",
      "  77.3662432   88.14451466 114.40937205 125.21365973  92.66490937\n",
      " 115.03803755 117.67333152  82.60311598  99.40955943  99.33309744\n",
      " 102.58578518  76.09373784  94.76286641 115.86731811 118.93304799\n",
      " 127.47043122  94.93736432 128.04261334 109.98857668  79.61198248\n",
      " 111.42413923  94.71579949 107.78614396  98.46214086 118.12357961\n",
      " 103.84840239  95.76242473 114.47448653 103.84332665  93.80565399\n",
      " 119.15911543  93.87482136  90.44297705  91.90638082  78.01791868\n",
      "  91.70189246 127.91316538  86.37574097 100.12628356  83.37724976\n",
      "  90.82970272 122.78038238 113.44533604  90.84624475 100.09330174\n",
      "  87.60994057  88.23691972  86.27766703  86.54290335 104.8892391\n",
      " 108.9518975  107.32363739  97.45844715  79.62932199  98.99334293\n",
      "  86.13559387 113.21951699 108.34664417 111.20337296  94.77447525\n",
      "  72.8347124  114.3684459  118.39482002  77.75025087 102.06874066\n",
      " 117.89878869  83.86414676 126.51524164  94.76451315  83.86914834\n",
      " 120.57487061 104.41798205  90.20292758 113.19681929  70.66349307\n",
      " 127.22959565  87.75624909 104.2897641   94.02075745 106.54348172\n",
      " 113.31888584  87.64170843 111.79544377  95.58950128  89.68210735\n",
      "  96.63934589  84.93087092  88.0649864  114.2370076   97.73765436\n",
      " 117.12299647 106.47635491  84.61047555  71.53192859  89.69137273\n",
      " 103.96189734 100.1321938   87.54856569 115.1921845   73.81414744\n",
      "  81.12030119 101.90942654 132.90644729 106.20901192  84.92140511\n",
      " 108.8898571  110.25094861 114.06785391  93.85203199  88.00410341\n",
      " 101.77325919 106.22912319 123.97352872 131.34473312  89.00395099\n",
      "  92.1554256   99.04640379  96.2534184  107.28685266 107.28605808\n",
      " 103.86845476 120.16106937  97.62233613  84.23788091  76.59098159\n",
      "  84.57790188  84.33613118  71.74864254 109.94781655 102.77901753\n",
      "  93.65810909  86.65166531  76.28581936  86.20420605 127.71863585\n",
      "  66.83812541 102.12715776 111.15455456 102.04198345  95.24792619\n",
      " 111.52110915  83.4500761  108.33317493 121.46046058  84.3793842\n",
      "  87.7024989  102.03910563 114.84359194 120.08722445 110.2094043\n",
      "  89.95745839  83.28380932 103.64467864 105.9738644   83.49171533\n",
      " 100.89685728 104.98356198 115.6759599   85.14155945 108.35446792\n",
      "  82.46086304  93.60121031  98.82584877 122.76874387 149.71456359\n",
      " 103.80318513 107.42937244 115.11312422  79.57515665 111.48495103\n",
      "  81.37390209 124.4366796  121.65237647 107.52309525  87.89952229\n",
      " 125.02037906 103.89532562 101.65365314 108.6931502   74.31480143\n",
      " 106.42749134 114.94162229 105.08501472 102.17888118  85.69512826\n",
      " 109.65332244 103.00703421 100.1359568   91.55192622 112.84256665\n",
      " 118.70776555 105.82219261 113.45123609 119.89034946 123.82241718\n",
      " 103.38475226  96.80007969  93.77581197 100.20620519 108.27949612\n",
      " 114.07272903  93.59886969 102.24786335  85.05129974 118.95946011\n",
      "  94.12808421 105.36881692  89.20944906  95.52585939  89.71005844\n",
      " 125.57449836 105.39045613  97.50333002  85.78536526  90.84550428\n",
      " 108.53057594 124.98887527  78.53666754  86.24430161  97.36317757\n",
      "  90.57598973  75.11226897 100.28964624 111.26563827  76.34332961\n",
      " 103.16439665 114.47009363 114.70490991  93.7019396  134.57123569\n",
      " 108.32670107  87.83400673 114.7644841   83.16118047 113.4290418\n",
      "  81.06918484 111.8581386   91.24657349 116.98432094 111.11016122\n",
      " 106.70811879 100.87948651 116.30524386  72.94987131 106.48831506\n",
      " 106.20149052 108.43224839 112.39343233 155.53687356 101.75174002\n",
      " 112.06749301 102.28552745 123.59002102  69.68784277 125.46921294\n",
      "  89.74290375  66.06638061  83.82721634  97.38220993 102.91367873\n",
      "  99.31162957 112.25226586  99.4723452   99.05203598  67.8472671\n",
      " 107.310161   115.15362552  93.68990756  71.84373551  79.95241764\n",
      " 125.10342457  90.90689132  90.03124175  87.70823362 110.21326176\n",
      "  91.18234671  86.96452126  77.40455823  98.38301528 115.01421508\n",
      "  97.78100676 113.23329523 102.63139581 102.21755312 102.68459364\n",
      " 100.51662123 115.39307528 107.31779353  91.32833981 101.9293007\n",
      "  98.86053048 107.27397969 102.70474976 106.21866908  77.84017233\n",
      " 105.69386746 119.70418088  79.74709083 124.01398812 104.45609078\n",
      "  96.88377247  72.93267776 116.3139553   85.45675693  92.33213842\n",
      " 108.188564    84.61630201  85.19749901  82.73079514  98.32959725\n",
      " 108.82804631 106.04509093 106.1110421   94.83729637 102.10704126\n",
      "  89.64938877 129.9651297  102.92090732  70.67521951  83.96038305\n",
      " 124.01954217  79.50269069  93.43457814 106.05438573  83.55064476\n",
      " 115.99907046 125.18625219  87.62891239 116.93943484  86.63165483\n",
      "  85.03075136 103.68527633 103.56897016  91.05946898 112.63036364\n",
      "  77.96227531  87.16501089  83.83195917 111.37545502 112.05853307\n",
      " 110.00410669  80.56599293 101.99152198 106.86480271  75.74530032\n",
      "  87.67460345 109.68793514 110.5548124  103.82852193 108.13113512\n",
      " 104.86144085 102.24878076  98.36114711  86.92851656  96.31677519\n",
      "  93.95627583 134.76662061 103.90361088  99.83957301  96.52033751\n",
      "  98.27192394  95.91599632 108.17057513  99.55832762 112.16619551\n",
      "  89.5723586  105.25351882 113.15734306  82.68611521 102.51654998\n",
      " 103.70601172  94.97879093  92.69258535  72.1763484  117.23231894\n",
      "  86.0061432   81.39444194 109.86870208  72.51587966 114.44906688\n",
      " 106.51328688 108.97134425  97.53998744  81.73980139  71.66855531\n",
      " 121.85218035  92.9208858   92.24978275 123.73244134  90.52896289\n",
      "  96.43060473  96.44502341  97.93810383  84.40837202  91.59679441\n",
      " 119.28233569 111.41639701  55.34312032  70.62202541 105.0045516\n",
      "  98.30568568  94.38210346 115.64108951  73.23611012 117.99388071\n",
      " 101.97386385 108.22609101 103.80054848 112.6921103   96.24502312\n",
      "  91.86612952 111.72357002 102.62654179  81.18567267 120.24421262\n",
      " 118.16146754 121.62156819 101.19545487 105.25799111  94.27686428\n",
      "  85.40756032 100.98208086 102.6476275   90.05857875 127.44542214\n",
      "  75.7612786   87.76982944  89.9294318  119.36808093  96.15114273\n",
      "  95.12592573  86.71763081  88.53257035  80.43070194 115.23305818\n",
      " 109.13335841 114.85050988  90.06460238 137.67875317  85.28031855\n",
      "  69.19279492  95.61835218 102.0567906  111.3451096   84.73853958\n",
      " 108.86282837 125.6177859   87.22112848  88.89750407  74.45709431\n",
      " 103.61411492 112.86120651 111.50410986 112.50434748 121.24220413\n",
      " 101.91163713 114.29157963  85.72574179  88.13640207 103.61299272\n",
      "  87.72967452 108.5755482  120.62577096 106.05304398  88.93852675\n",
      "  88.77286217 120.48049763  88.02796271 101.33975969  96.11657716\n",
      " 100.79532125 116.44554085  91.91810334  78.84410721 121.77604227\n",
      " 103.3452123  110.88593698  99.70932875 111.66434598 118.97106347\n",
      " 120.4948948   95.89818888  94.71771517 105.92302353 103.1075731\n",
      " 108.4869442   89.33591933  65.12951754 106.75029805 111.71868432\n",
      " 109.64522807 124.89164363 112.78343263  94.17499942 114.78138859\n",
      "  98.7259787  118.82927493 103.56981686 106.80265953 103.41585628\n",
      " 100.81757555  77.55140944 100.8660996   65.91177594 107.46704501\n",
      " 114.87878375 130.76654923 105.61114607  89.25255278  76.15635116\n",
      " 129.21655234  78.60594602 113.43285105  65.40595752  99.22765946\n",
      " 110.24835267 104.87853701  99.37689338  87.62936644  86.40000748\n",
      " 115.12942856 106.53594907  97.59117358 103.10240258  86.0994644\n",
      " 115.33436299 118.91461554  88.30223867 101.53031331 115.72370953\n",
      "  90.37257204 130.51865169 122.65943436  95.81686079 114.68158177\n",
      " 124.93294727  81.33864317 109.28836314  97.8347472   96.75195328\n",
      " 110.65459881  92.84384159  79.00371392  78.66756455  99.70396996\n",
      " 109.43351984  99.64185145  97.71106877  99.53805368 119.33969438\n",
      " 107.95679997  88.81133429  95.66823016 118.07033581  91.29546757\n",
      "  94.07896187  99.624036    84.02633701 113.53552074  67.15789191\n",
      " 121.77058159  93.47262456  81.15127575 104.23395221  74.33164596\n",
      " 108.06025512 111.60435998  91.36134481  94.16656836 114.23117192\n",
      "  89.93882917 100.33753491 105.21424782 123.39939766  92.45387171]\n"
     ]
    }
   ],
   "source": [
    "print(samples)"
   ]
  },
  {
   "cell_type": "code",
   "execution_count": 29,
   "metadata": {},
   "outputs": [
    {
     "data": {
      "text/plain": [
       "55.240446926770545"
      ]
     },
     "execution_count": 29,
     "metadata": {},
     "output_type": "execute_result"
    }
   ],
   "source": [
    "samples.sort()\n",
    "samples[0]"
   ]
  },
  {
   "cell_type": "markdown",
   "metadata": {
    "id": "CDF8m3a4IYOC"
   },
   "source": [
    "Compute the **mean**, **median**, and **mode**"
   ]
  },
  {
   "cell_type": "code",
   "execution_count": 30,
   "metadata": {
    "id": "ZKbeqxaKIoNs"
   },
   "outputs": [],
   "source": [
    "mean = np.mean(samples)\n",
    "median = np.median(samples)\n",
    "mode = stats.mode(samples)"
   ]
  },
  {
   "cell_type": "code",
   "execution_count": 31,
   "metadata": {},
   "outputs": [
    {
     "name": "stdout",
     "output_type": "stream",
     "text": [
      "100.25926499471252\n",
      "100.58575077502616\n",
      "ModeResult(mode=array([55.24044693]), count=array([1]))\n"
     ]
    }
   ],
   "source": [
    "print(mean)\n",
    "print(median)\n",
    "print(mode)"
   ]
  },
  {
   "cell_type": "code",
   "execution_count": 32,
   "metadata": {},
   "outputs": [
    {
     "name": "stdout",
     "output_type": "stream",
     "text": [
      "median: 100.58575077502616 100.58575077502616\n"
     ]
    }
   ],
   "source": [
    "m = np.percentile(samples, 50)\n",
    "print('median:', m, median)"
   ]
  },
  {
   "cell_type": "code",
   "execution_count": null,
   "metadata": {},
   "outputs": [],
   "source": []
  },
  {
   "cell_type": "markdown",
   "metadata": {
    "id": "skT8m39XI60w"
   },
   "source": [
    "Compute the **min**, **max**, **Q1**, **Q3**, and **interquartile range**"
   ]
  },
  {
   "cell_type": "code",
   "execution_count": 33,
   "metadata": {
    "id": "VaiDphm8It0O"
   },
   "outputs": [],
   "source": [
    "min = np.min(samples)\n",
    "max = np.max(samples)\n",
    "\n",
    "q1 = np.percentile(samples, 25)\n",
    "q3 = np.percentile(samples, 75)\n",
    "iqr = q3-q1"
   ]
  },
  {
   "cell_type": "code",
   "execution_count": 34,
   "metadata": {},
   "outputs": [
    {
     "name": "stdout",
     "output_type": "stream",
     "text": [
      "55.240446926770545\n",
      "155.53687356399791\n",
      "89.73469242145458\n",
      "111.00652983249475\n",
      "21.271837411040167\n"
     ]
    }
   ],
   "source": [
    "print(min, max, q1, q3, iqr, sep='\\n')"
   ]
  },
  {
   "cell_type": "code",
   "execution_count": 35,
   "metadata": {},
   "outputs": [
    {
     "name": "stdout",
     "output_type": "stream",
     "text": [
      "IQR: 21.271837411040167\n"
     ]
    }
   ],
   "source": [
    "print(\"IQR:\", (stats.iqr(samples)))"
   ]
  },
  {
   "cell_type": "code",
   "execution_count": null,
   "metadata": {},
   "outputs": [],
   "source": []
  },
  {
   "cell_type": "markdown",
   "metadata": {
    "id": "m53Dv3n5JHQi"
   },
   "source": [
    "Compute the **variance** and **standard deviation**"
   ]
  },
  {
   "cell_type": "code",
   "execution_count": 36,
   "metadata": {
    "id": "6JFaAYdrJbeN"
   },
   "outputs": [],
   "source": [
    "variance = np.var(samples)\n",
    "std_dev = np.std(samples)"
   ]
  },
  {
   "cell_type": "code",
   "execution_count": 37,
   "metadata": {},
   "outputs": [
    {
     "name": "stdout",
     "output_type": "stream",
     "text": [
      "228.7967377522978\n",
      "15.126028485769085\n"
     ]
    }
   ],
   "source": [
    "print(variance, std_dev, sep='\\n')"
   ]
  },
  {
   "cell_type": "code",
   "execution_count": 38,
   "metadata": {},
   "outputs": [
    {
     "data": {
      "text/plain": [
       "228.79673775229782"
      ]
     },
     "execution_count": 38,
     "metadata": {},
     "output_type": "execute_result"
    }
   ],
   "source": [
    "np.square(np.std(samples))  # kare alma"
   ]
  },
  {
   "cell_type": "code",
   "execution_count": 39,
   "metadata": {},
   "outputs": [
    {
     "data": {
      "text/plain": [
       "15.126028485769085"
      ]
     },
     "execution_count": 39,
     "metadata": {},
     "output_type": "execute_result"
    }
   ],
   "source": [
    "np.sqrt(np.var(samples))  # karekök"
   ]
  },
  {
   "cell_type": "code",
   "execution_count": null,
   "metadata": {},
   "outputs": [],
   "source": []
  },
  {
   "cell_type": "markdown",
   "metadata": {
    "id": "5eup4hI1JzqX"
   },
   "source": [
    "Compute the **skewness** and **kurtosis**\n",
    "\n",
    "You can use [`scipy.stats.skew`](https://docs.scipy.org/doc/scipy/reference/generated/scipy.stats.skew.html) and [`scipy.stats.kurtosis`](https://docs.scipy.org/doc/scipy/reference/generated/scipy.stats.kurtosis.html)"
   ]
  },
  {
   "cell_type": "code",
   "execution_count": 40,
   "metadata": {
    "id": "YO3obyDnJ3_D"
   },
   "outputs": [],
   "source": [
    "skw = stats.skew(samples)\n",
    "kur = stats.kurtosis(samples)"
   ]
  },
  {
   "cell_type": "code",
   "execution_count": 41,
   "metadata": {},
   "outputs": [
    {
     "name": "stdout",
     "output_type": "stream",
     "text": [
      "-0.007269929512763955\n",
      "-0.06928694200380514\n"
     ]
    }
   ],
   "source": [
    "print(skw, kur, sep='\\n')"
   ]
  },
  {
   "cell_type": "code",
   "execution_count": 42,
   "metadata": {},
   "outputs": [
    {
     "data": {
      "image/png": "[encoded data removed]",
      "text/plain": [
       "<Figure size 432x288 with 1 Axes>"
      ]
     },
     "metadata": {
      "needs_background": "light"
     },
     "output_type": "display_data"
    }
   ],
   "source": [
    "plt.hist(samples, bins=15);"
   ]
  },
  {
   "cell_type": "code",
   "execution_count": null,
   "metadata": {},
   "outputs": [],
   "source": []
  },
  {
   "cell_type": "markdown",
   "metadata": {
    "id": "a5UNc8PUKnbU"
   },
   "source": [
    "## NumPy Correlation Calculation"
   ]
  },
  {
   "cell_type": "markdown",
   "metadata": {
    "id": "cLiqxE1CMNTg"
   },
   "source": [
    "Create an array x of integers between 10 (inclusive) and 20 (exclusive). Use `np.arange()`"
   ]
  },
  {
   "cell_type": "code",
   "execution_count": 43,
   "metadata": {
    "id": "5LAaQ6w5L-2L"
   },
   "outputs": [],
   "source": [
    "x = np.arange(10,20)"
   ]
  },
  {
   "cell_type": "code",
   "execution_count": 44,
   "metadata": {},
   "outputs": [
    {
     "data": {
      "text/plain": [
       "array([10, 11, 12, 13, 14, 15, 16, 17, 18, 19])"
      ]
     },
     "execution_count": 44,
     "metadata": {},
     "output_type": "execute_result"
    }
   ],
   "source": [
    "x"
   ]
  },
  {
   "cell_type": "code",
   "execution_count": 45,
   "metadata": {},
   "outputs": [
    {
     "data": {
      "text/plain": [
       "array([10, 11, 12, 13, 14, 15, 16, 17, 18, 19])"
      ]
     },
     "execution_count": 45,
     "metadata": {},
     "output_type": "execute_result"
    }
   ],
   "source": [
    "np.array([10, 11, 12, 13, 14, 15, 16, 17, 18, 19])"
   ]
  },
  {
   "cell_type": "code",
   "execution_count": 46,
   "metadata": {},
   "outputs": [
    {
     "data": {
      "text/plain": [
       "array(10)"
      ]
     },
     "execution_count": 46,
     "metadata": {},
     "output_type": "execute_result"
    }
   ],
   "source": [
    "np.array(10)"
   ]
  },
  {
   "cell_type": "code",
   "execution_count": 47,
   "metadata": {},
   "outputs": [
    {
     "data": {
      "text/plain": [
       "array([[10]])"
      ]
     },
     "execution_count": 47,
     "metadata": {},
     "output_type": "execute_result"
    }
   ],
   "source": [
    "np.array(10, ndmin=2)"
   ]
  },
  {
   "cell_type": "code",
   "execution_count": 48,
   "metadata": {},
   "outputs": [
    {
     "name": "stdout",
     "output_type": "stream",
     "text": [
      "10\n"
     ]
    }
   ],
   "source": [
    "print(np.array(10))"
   ]
  },
  {
   "cell_type": "markdown",
   "metadata": {
    "id": "qyCIaukNMZPf"
   },
   "source": [
    "Then use `np.array()` to create a second array y containing 10 arbitrary integers."
   ]
  },
  {
   "cell_type": "code",
   "execution_count": 49,
   "metadata": {},
   "outputs": [
    {
     "data": {
      "text/plain": [
       "array([0.86266448, 0.51111094, 0.48997705, 0.40472111, 0.4401997 ,\n",
       "       0.43793953, 0.11574458, 0.93452713, 0.52037384, 0.68871181])"
      ]
     },
     "execution_count": 49,
     "metadata": {},
     "output_type": "execute_result"
    }
   ],
   "source": [
    "np.random.rand(10)"
   ]
  },
  {
   "cell_type": "code",
   "execution_count": 51,
   "metadata": {},
   "outputs": [
    {
     "data": {
      "text/plain": [
       "array([-0.25692337,  0.1448681 , -1.31117671,  1.09142226, -0.52087614,\n",
       "        0.04153348, -0.2141505 ,  0.98464788,  0.52166434,  0.0129932 ])"
      ]
     },
     "execution_count": 51,
     "metadata": {},
     "output_type": "execute_result"
    }
   ],
   "source": [
    "np.random.randn(10)"
   ]
  },
  {
   "cell_type": "code",
   "execution_count": 52,
   "metadata": {},
   "outputs": [
    {
     "data": {
      "text/plain": [
       "array([0.92925426, 0.71872782, 0.72621547, 0.83758528, 0.63460803,\n",
       "       0.60689358, 0.86918629, 0.12683783, 0.98118576, 0.25187347])"
      ]
     },
     "execution_count": 52,
     "metadata": {},
     "output_type": "execute_result"
    }
   ],
   "source": [
    "np.random.random(10)"
   ]
  },
  {
   "cell_type": "code",
   "execution_count": 53,
   "metadata": {},
   "outputs": [
    {
     "data": {
      "text/plain": [
       "array([28, 17, 19, 16, 63, 45, 29, 94, 54, 65])"
      ]
     },
     "execution_count": 53,
     "metadata": {},
     "output_type": "execute_result"
    }
   ],
   "source": [
    "np.random.randint(1,100, (10))"
   ]
  },
  {
   "cell_type": "code",
   "execution_count": null,
   "metadata": {},
   "outputs": [],
   "source": []
  },
  {
   "cell_type": "code",
   "execution_count": 54,
   "metadata": {
    "id": "p27eW__gNMdh"
   },
   "outputs": [
    {
     "data": {
      "text/plain": [
       "array([25,  4, 57, 73,  1, 22, 20, 75, 42, 11])"
      ]
     },
     "execution_count": 54,
     "metadata": {},
     "output_type": "execute_result"
    }
   ],
   "source": [
    "np.random.seed(3)\n",
    "y = np.random.randint(1,100, (10))\n",
    "y"
   ]
  },
  {
   "cell_type": "markdown",
   "metadata": {
    "id": "Kh_VeKwINSqS"
   },
   "source": [
    "Once you have two arrays of the same length, you can compute the **correlation coefficient** between x and y"
   ]
  },
  {
   "cell_type": "code",
   "execution_count": 55,
   "metadata": {},
   "outputs": [
    {
     "data": {
      "text/plain": [
       "(array([10, 11, 12, 13, 14, 15, 16, 17, 18, 19]),\n",
       " array([25,  4, 57, 73,  1, 22, 20, 75, 42, 11]))"
      ]
     },
     "execution_count": 55,
     "metadata": {},
     "output_type": "execute_result"
    }
   ],
   "source": [
    "x, y"
   ]
  },
  {
   "cell_type": "code",
   "execution_count": 56,
   "metadata": {
    "id": "yrtC6rPkNSDC"
   },
   "outputs": [],
   "source": [
    "r = np.corrcoef(x, y)"
   ]
  },
  {
   "cell_type": "code",
   "execution_count": 57,
   "metadata": {},
   "outputs": [
    {
     "data": {
      "text/plain": [
       "array([[1.        , 0.06176138],\n",
       "       [0.06176138, 1.        ]])"
      ]
     },
     "execution_count": 57,
     "metadata": {},
     "output_type": "execute_result"
    }
   ],
   "source": [
    "r"
   ]
  },
  {
   "cell_type": "code",
   "execution_count": 58,
   "metadata": {},
   "outputs": [
    {
     "data": {
      "text/plain": [
       "(0.061761381946112914, 0.8654111447995122)"
      ]
     },
     "execution_count": 58,
     "metadata": {},
     "output_type": "execute_result"
    }
   ],
   "source": [
    "stats.pearsonr(x, y)"
   ]
  },
  {
   "cell_type": "code",
   "execution_count": null,
   "metadata": {},
   "outputs": [],
   "source": []
  },
  {
   "cell_type": "markdown",
   "metadata": {
    "id": "vXieLjYiNtPi"
   },
   "source": [
    "## Pandas Correlation Calculation"
   ]
  },
  {
   "cell_type": "markdown",
   "metadata": {
    "id": "z56t0k0qNvkr"
   },
   "source": [
    "Run the code below"
   ]
  },
  {
   "cell_type": "code",
   "execution_count": 5,
   "metadata": {
    "id": "9AVBMJCyNuwb"
   },
   "outputs": [],
   "source": [
    "x = pd.Series(range(10, 20))\n",
    "y = pd.Series([2, 1, 4, 5, 8, 12, 18, 25, 96, 48])"
   ]
  },
  {
   "cell_type": "code",
   "execution_count": null,
   "metadata": {},
   "outputs": [],
   "source": []
  },
  {
   "cell_type": "markdown",
   "metadata": {
    "id": "ZajVXYe2OCih"
   },
   "source": [
    "Call the relevant method  to calculate Pearson's r correlation."
   ]
  },
  {
   "cell_type": "code",
   "execution_count": 10,
   "metadata": {
    "id": "Ak_rkzbLOafj"
   },
   "outputs": [
    {
     "data": {
      "text/plain": [
       "(0.758640289091187, 0.010964341301680813)"
      ]
     },
     "execution_count": 10,
     "metadata": {},
     "output_type": "execute_result"
    }
   ],
   "source": [
    "r = stats.pearsonr(x, y)\n",
    "r"
   ]
  },
  {
   "cell_type": "code",
   "execution_count": 80,
   "metadata": {},
   "outputs": [
    {
     "name": "stdout",
     "output_type": "stream",
     "text": [
      "Help on function pearsonr in module scipy.stats.stats:\n",
      "\n",
      "pearsonr(x, y)\n",
      "    Pearson correlation coefficient and p-value for testing non-correlation.\n",
      "    \n",
      "    The Pearson correlation coefficient [1]_ measures the linear relationship\n",
      "    between two datasets.  The calculation of the p-value relies on the\n",
      "    assumption that each dataset is normally distributed.  (See Kowalski [3]_\n",
      "    for a discussion of the effects of non-normality of the input on the\n",
      "    distribution of the correlation coefficient.)  Like other correlation\n",
      "    coefficients, this one varies between -1 and +1 with 0 implying no\n",
      "    correlation. Correlations of -1 or +1 imply an exact linear relationship.\n",
      "    Positive correlations imply that as x increases, so does y. Negative\n",
      "    correlations imply that as x increases, y decreases.\n",
      "    \n",
      "    The p-value roughly indicates the probability of an uncorrelated system\n",
      "    producing datasets that have a Pearson correlation at least as extreme\n",
      "    as the one computed from these datasets.\n",
      "    \n",
      "    Parameters\n",
      "    ----------\n",
      "    x : (N,) array_like\n",
      "        Input array.\n",
      "    y : (N,) array_like\n",
      "        Input array.\n",
      "    \n",
      "    Returns\n",
      "    -------\n",
      "    r : float\n",
      "        Pearson's correlation coefficient.\n",
      "    p-value : float\n",
      "        Two-tailed p-value.\n",
      "    \n",
      "    Warns\n",
      "    -----\n",
      "    PearsonRConstantInputWarning\n",
      "        Raised if an input is a constant array.  The correlation coefficient\n",
      "        is not defined in this case, so ``np.nan`` is returned.\n",
      "    \n",
      "    PearsonRNearConstantInputWarning\n",
      "        Raised if an input is \"nearly\" constant.  The array ``x`` is considered\n",
      "        nearly constant if ``norm(x - mean(x)) < 1e-13 * abs(mean(x))``.\n",
      "        Numerical errors in the calculation ``x - mean(x)`` in this case might\n",
      "        result in an inaccurate calculation of r.\n",
      "    \n",
      "    See Also\n",
      "    --------\n",
      "    spearmanr : Spearman rank-order correlation coefficient.\n",
      "    kendalltau : Kendall's tau, a correlation measure for ordinal data.\n",
      "    \n",
      "    Notes\n",
      "    -----\n",
      "    The correlation coefficient is calculated as follows:\n",
      "    \n",
      "    .. math::\n",
      "    \n",
      "        r = \\frac{\\sum (x - m_x) (y - m_y)}\n",
      "                 {\\sqrt{\\sum (x - m_x)^2 \\sum (y - m_y)^2}}\n",
      "    \n",
      "    where :math:`m_x` is the mean of the vector :math:`x` and :math:`m_y` is\n",
      "    the mean of the vector :math:`y`.\n",
      "    \n",
      "    Under the assumption that :math:`x` and :math:`m_y` are drawn from\n",
      "    independent normal distributions (so the population correlation coefficient\n",
      "    is 0), the probability density function of the sample correlation\n",
      "    coefficient :math:`r` is ([1]_, [2]_):\n",
      "    \n",
      "    .. math::\n",
      "    \n",
      "        f(r) = \\frac{{(1-r^2)}^{n/2-2}}{\\mathrm{B}(\\frac{1}{2},\\frac{n}{2}-1)}\n",
      "    \n",
      "    where n is the number of samples, and B is the beta function.  This\n",
      "    is sometimes referred to as the exact distribution of r.  This is\n",
      "    the distribution that is used in `pearsonr` to compute the p-value.\n",
      "    The distribution is a beta distribution on the interval [-1, 1],\n",
      "    with equal shape parameters a = b = n/2 - 1.  In terms of SciPy's\n",
      "    implementation of the beta distribution, the distribution of r is::\n",
      "    \n",
      "        dist = scipy.stats.beta(n/2 - 1, n/2 - 1, loc=-1, scale=2)\n",
      "    \n",
      "    The p-value returned by `pearsonr` is a two-sided p-value.  For a\n",
      "    given sample with correlation coefficient r, the p-value is\n",
      "    the probability that abs(r') of a random sample x' and y' drawn from\n",
      "    the population with zero correlation would be greater than or equal\n",
      "    to abs(r).  In terms of the object ``dist`` shown above, the p-value\n",
      "    for a given r and length n can be computed as::\n",
      "    \n",
      "        p = 2*dist.cdf(-abs(r))\n",
      "    \n",
      "    When n is 2, the above continuous distribution is not well-defined.\n",
      "    One can interpret the limit of the beta distribution as the shape\n",
      "    parameters a and b approach a = b = 0 as a discrete distribution with\n",
      "    equal probability masses at r = 1 and r = -1.  More directly, one\n",
      "    can observe that, given the data x = [x1, x2] and y = [y1, y2], and\n",
      "    assuming x1 != x2 and y1 != y2, the only possible values for r are 1\n",
      "    and -1.  Because abs(r') for any sample x' and y' with length 2 will\n",
      "    be 1, the two-sided p-value for a sample of length 2 is always 1.\n",
      "    \n",
      "    References\n",
      "    ----------\n",
      "    .. [1] \"Pearson correlation coefficient\", Wikipedia,\n",
      "           https://en.wikipedia.org/wiki/Pearson_correlation_coefficient\n",
      "    .. [2] Student, \"Probable error of a correlation coefficient\",\n",
      "           Biometrika, Volume 6, Issue 2-3, 1 September 1908, pp. 302-310.\n",
      "    .. [3] C. J. Kowalski, \"On the Effects of Non-Normality on the Distribution\n",
      "           of the Sample Product-Moment Correlation Coefficient\"\n",
      "           Journal of the Royal Statistical Society. Series C (Applied\n",
      "           Statistics), Vol. 21, No. 1 (1972), pp. 1-12.\n",
      "    \n",
      "    Examples\n",
      "    --------\n",
      "    >>> from scipy import stats\n",
      "    >>> a = np.array([0, 0, 0, 1, 1, 1, 1])\n",
      "    >>> b = np.arange(7)\n",
      "    >>> stats.pearsonr(a, b)\n",
      "    (0.8660254037844386, 0.011724811003954649)\n",
      "    \n",
      "    >>> stats.pearsonr([1, 2, 3, 4, 5], [10, 9, 2.5, 6, 4])\n",
      "    (-0.7426106572325057, 0.1505558088534455)\n",
      "\n"
     ]
    }
   ],
   "source": [
    "help(stats.pearsonr)"
   ]
  },
  {
   "cell_type": "markdown",
   "metadata": {
    "id": "1CygSbnROb9V"
   },
   "source": [
    "OPTIONAL. Call the relevant method to calculate Spearman's rho correlation."
   ]
  },
  {
   "cell_type": "code",
   "execution_count": 9,
   "metadata": {
    "id": "xp_QkXwmOlYY"
   },
   "outputs": [
    {
     "data": {
      "text/plain": [
       "SpearmanrResult(correlation=0.9757575757575757, pvalue=1.4675461874042197e-06)"
      ]
     },
     "execution_count": 9,
     "metadata": {},
     "output_type": "execute_result"
    }
   ],
   "source": [
    "rho = stats.spearmanr(x, y)\n",
    "rho"
   ]
  },
  {
   "cell_type": "code",
   "execution_count": 81,
   "metadata": {},
   "outputs": [
    {
     "name": "stdout",
     "output_type": "stream",
     "text": [
      "Help on function spearmanr in module scipy.stats.stats:\n",
      "\n",
      "spearmanr(a, b=None, axis=0, nan_policy='propagate', alternative='two-sided')\n",
      "    Calculate a Spearman correlation coefficient with associated p-value.\n",
      "    \n",
      "    The Spearman rank-order correlation coefficient is a nonparametric measure\n",
      "    of the monotonicity of the relationship between two datasets. Unlike the\n",
      "    Pearson correlation, the Spearman correlation does not assume that both\n",
      "    datasets are normally distributed. Like other correlation coefficients,\n",
      "    this one varies between -1 and +1 with 0 implying no correlation.\n",
      "    Correlations of -1 or +1 imply an exact monotonic relationship. Positive\n",
      "    correlations imply that as x increases, so does y. Negative correlations\n",
      "    imply that as x increases, y decreases.\n",
      "    \n",
      "    The p-value roughly indicates the probability of an uncorrelated system\n",
      "    producing datasets that have a Spearman correlation at least as extreme\n",
      "    as the one computed from these datasets. The p-values are not entirely\n",
      "    reliable but are probably reasonable for datasets larger than 500 or so.\n",
      "    \n",
      "    Parameters\n",
      "    ----------\n",
      "    a, b : 1D or 2D array_like, b is optional\n",
      "        One or two 1-D or 2-D arrays containing multiple variables and\n",
      "        observations. When these are 1-D, each represents a vector of\n",
      "        observations of a single variable. For the behavior in the 2-D case,\n",
      "        see under ``axis``, below.\n",
      "        Both arrays need to have the same length in the ``axis`` dimension.\n",
      "    axis : int or None, optional\n",
      "        If axis=0 (default), then each column represents a variable, with\n",
      "        observations in the rows. If axis=1, the relationship is transposed:\n",
      "        each row represents a variable, while the columns contain observations.\n",
      "        If axis=None, then both arrays will be raveled.\n",
      "    nan_policy : {'propagate', 'raise', 'omit'}, optional\n",
      "        Defines how to handle when input contains nan.\n",
      "        The following options are available (default is 'propagate'):\n",
      "    \n",
      "        * 'propagate': returns nan\n",
      "        * 'raise': throws an error\n",
      "        * 'omit': performs the calculations ignoring nan values\n",
      "    \n",
      "    alternative : {'two-sided', 'less', 'greater'}, optional\n",
      "        Defines the alternative hypothesis. Default is 'two-sided'.\n",
      "        The following options are available:\n",
      "    \n",
      "        * 'two-sided': the correlation is nonzero\n",
      "        * 'less': the correlation is negative (less than zero)\n",
      "        * 'greater':  the correlation is positive (greater than zero)\n",
      "    \n",
      "        .. versionadded:: 1.7.0\n",
      "    \n",
      "    Returns\n",
      "    -------\n",
      "    correlation : float or ndarray (2-D square)\n",
      "        Spearman correlation matrix or correlation coefficient (if only 2\n",
      "        variables are given as parameters. Correlation matrix is square with\n",
      "        length equal to total number of variables (columns or rows) in ``a``\n",
      "        and ``b`` combined.\n",
      "    pvalue : float\n",
      "        The p-value for a hypothesis test whose null hypotheisis\n",
      "        is that two sets of data are uncorrelated. See `alternative` above\n",
      "        for alternative hypotheses. `pvalue` has the same\n",
      "        shape as `correlation`.\n",
      "    \n",
      "    References\n",
      "    ----------\n",
      "    .. [1] Zwillinger, D. and Kokoska, S. (2000). CRC Standard\n",
      "       Probability and Statistics Tables and Formulae. Chapman & Hall: New\n",
      "       York. 2000.\n",
      "       Section  14.7\n",
      "    \n",
      "    Examples\n",
      "    --------\n",
      "    >>> from scipy import stats\n",
      "    >>> stats.spearmanr([1,2,3,4,5], [5,6,7,8,7])\n",
      "    SpearmanrResult(correlation=0.82078..., pvalue=0.08858...)\n",
      "    >>> rng = np.random.default_rng()\n",
      "    >>> x2n = rng.standard_normal((100, 2))\n",
      "    >>> y2n = rng.standard_normal((100, 2))\n",
      "    >>> stats.spearmanr(x2n)\n",
      "    SpearmanrResult(correlation=-0.07960396039603959, pvalue=0.4311168705769747)\n",
      "    >>> stats.spearmanr(x2n[:,0], x2n[:,1])\n",
      "    SpearmanrResult(correlation=-0.07960396039603959, pvalue=0.4311168705769747)\n",
      "    >>> rho, pval = stats.spearmanr(x2n, y2n)\n",
      "    >>> rho\n",
      "    array([[ 1.        , -0.07960396, -0.08314431,  0.09662166],\n",
      "           [-0.07960396,  1.        , -0.14448245,  0.16738074],\n",
      "           [-0.08314431, -0.14448245,  1.        ,  0.03234323],\n",
      "           [ 0.09662166,  0.16738074,  0.03234323,  1.        ]])\n",
      "    >>> pval\n",
      "    array([[0.        , 0.43111687, 0.41084066, 0.33891628],\n",
      "           [0.43111687, 0.        , 0.15151618, 0.09600687],\n",
      "           [0.41084066, 0.15151618, 0.        , 0.74938561],\n",
      "           [0.33891628, 0.09600687, 0.74938561, 0.        ]])\n",
      "    >>> rho, pval = stats.spearmanr(x2n.T, y2n.T, axis=1)\n",
      "    >>> rho\n",
      "    array([[ 1.        , -0.07960396, -0.08314431,  0.09662166],\n",
      "           [-0.07960396,  1.        , -0.14448245,  0.16738074],\n",
      "           [-0.08314431, -0.14448245,  1.        ,  0.03234323],\n",
      "           [ 0.09662166,  0.16738074,  0.03234323,  1.        ]])\n",
      "    >>> stats.spearmanr(x2n, y2n, axis=None)\n",
      "    SpearmanrResult(correlation=0.044981624540613524, pvalue=0.5270803651336189)\n",
      "    >>> stats.spearmanr(x2n.ravel(), y2n.ravel())\n",
      "    SpearmanrResult(correlation=0.044981624540613524, pvalue=0.5270803651336189)\n",
      "    \n",
      "    >>> rng = np.random.default_rng()\n",
      "    >>> xint = rng.integers(10, size=(100, 2))\n",
      "    >>> stats.spearmanr(xint)\n",
      "    SpearmanrResult(correlation=0.09800224850707953, pvalue=0.3320271757932076)\n",
      "\n"
     ]
    }
   ],
   "source": [
    "help(stats.spearmanr)"
   ]
  },
  {
   "cell_type": "markdown",
   "metadata": {
    "id": "we7pg7kdOo7y"
   },
   "source": [
    "## Seaborn Dataset Tips"
   ]
  },
  {
   "cell_type": "markdown",
   "metadata": {
    "id": "VlzgFKN7OvqX"
   },
   "source": [
    "Import Seaborn Library"
   ]
  },
  {
   "cell_type": "code",
   "execution_count": null,
   "metadata": {
    "id": "t-49JRRqO4pw"
   },
   "outputs": [],
   "source": [
    "import "
   ]
  },
  {
   "cell_type": "markdown",
   "metadata": {
    "id": "0INVBB4tO4y4"
   },
   "source": [
    "Load \"tips\" dataset from Seaborn"
   ]
  },
  {
   "cell_type": "code",
   "execution_count": null,
   "metadata": {
    "id": "kieLvcM1PBv7"
   },
   "outputs": [],
   "source": [
    "tips = sns.load_dataset(\"tips\")"
   ]
  },
  {
   "cell_type": "markdown",
   "metadata": {
    "id": "o2ISqVQrPh5S"
   },
   "source": [
    "Generate descriptive statistics include those that summarize the central tendency, dispersion"
   ]
  },
  {
   "cell_type": "code",
   "execution_count": null,
   "metadata": {
    "id": "FyFvmdbJPVg6"
   },
   "outputs": [],
   "source": []
  },
  {
   "cell_type": "markdown",
   "metadata": {
    "id": "3yCRK4VJPzRo"
   },
   "source": [
    "Call the relevant method to calculate pairwise Pearson's r correlation of columns"
   ]
  },
  {
   "cell_type": "code",
   "execution_count": null,
   "metadata": {
    "id": "qwvGzDU8PGnM"
   },
   "outputs": [],
   "source": []
  }
 ],
 "metadata": {
  "colab": {
   "collapsed_sections": [],
   "name": "Stats Assign. (Central Tendency& Dispersion).ipynb",
   "provenance": []
  },
  "hide_input": false,
  "kernelspec": {
   "display_name": "Python 3 (ipykernel)",
   "language": "python",
   "name": "python3"
  },
  "language_info": {
   "codemirror_mode": {
    "name": "ipython",
    "version": 3
   },
   "file_extension": ".py",
   "mimetype": "text/x-python",
   "name": "python",
   "nbconvert_exporter": "python",
   "pygments_lexer": "ipython3",
   "version": "3.9.7"
  },
  "nbTranslate": {
   "displayLangs": [
    "*"
   ],
   "hotkey": "alt-t",
   "langInMainMenu": true,
   "sourceLang": "en",
   "targetLang": "fr",
   "useGoogleTranslate": true
  },
  "toc": {
   "base_numbering": 1,
   "nav_menu": {},
   "number_sections": true,
   "sideBar": true,
   "skip_h1_title": false,
   "title_cell": "Table of Contents",
   "title_sidebar": "Contents",
   "toc_cell": false,
   "toc_position": {
    "height": "calc(100% - 180px)",
    "left": "10px",
    "top": "150px",
    "width": "253.729px"
   },
   "toc_section_display": true,
   "toc_window_display": false
  }
 },
 "nbformat": 4,
 "nbformat_minor": 1
}
